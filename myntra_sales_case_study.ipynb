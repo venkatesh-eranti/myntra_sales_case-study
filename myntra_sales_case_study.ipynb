{
  "nbformat": 4,
  "nbformat_minor": 0,
  "metadata": {
    "colab": {
      "name": "myntra_sales_case-study.ipynb",
      "provenance": [],
      "collapsed_sections": [],
      "authorship_tag": "ABX9TyNAPzifF00wuD/LzjVHAyby",
      "include_colab_link": true
    },
    "kernelspec": {
      "name": "python3",
      "display_name": "Python 3"
    }
  },
  "cells": [
    {
      "cell_type": "markdown",
      "metadata": {
        "id": "view-in-github",
        "colab_type": "text"
      },
      "source": [
        "<a href=\"https://colab.research.google.com/github/venkatesh-eranti/myntra_sales_case-study/blob/main/myntra_sales_case_study.ipynb\" target=\"_parent\"><img src=\"https://colab.research.google.com/assets/colab-badge.svg\" alt=\"Open In Colab\"/></a>"
      ]
    },
    {
      "cell_type": "markdown",
      "metadata": {
        "id": "PvVDcQdTe47S"
      },
      "source": [
        "# importing required librariers"
      ]
    },
    {
      "cell_type": "code",
      "metadata": {
        "id": "nrUsXR_jcFlb"
      },
      "source": [
        "import numpy as np\n",
        "import pandas as pd\n",
        "# visualisation\n",
        "import matplotlib.pyplot as plt\n",
        "import seaborn as sns\n",
        "%matplotlib inline\n",
        "# test train split\n",
        "from sklearn.model_selection import train_test_split"
      ],
      "execution_count": null,
      "outputs": []
    },
    {
      "cell_type": "markdown",
      "metadata": {
        "id": "wSLqGJpsfQcV"
      },
      "source": [
        "# loading the data"
      ]
    },
    {
      "cell_type": "code",
      "metadata": {
        "colab": {
          "base_uri": "https://localhost:8080/"
        },
        "id": "IoKrvCLnfPoy",
        "outputId": "7656d96e-a0a0-487c-89dd-6d03bc593b96"
      },
      "source": [
        "df=pd.read_csv('https://raw.githubusercontent.com/venkatesh-eranti/myntra_sales_case-study/main/Dress%2BSales.csv')\n",
        "df.shape"
      ],
      "execution_count": null,
      "outputs": [
        {
          "output_type": "execute_result",
          "data": {
            "text/plain": [
              "(479, 24)"
            ]
          },
          "metadata": {
            "tags": []
          },
          "execution_count": 319
        }
      ]
    },
    {
      "cell_type": "code",
      "metadata": {
        "colab": {
          "base_uri": "https://localhost:8080/",
          "height": 253
        },
        "id": "uV-Rjv7NfXRJ",
        "outputId": "790ddf74-c5fb-4fc4-d7db-507518002124"
      },
      "source": [
        "df.head()"
      ],
      "execution_count": null,
      "outputs": [
        {
          "output_type": "execute_result",
          "data": {
            "text/html": [
              "<div>\n",
              "<style scoped>\n",
              "    .dataframe tbody tr th:only-of-type {\n",
              "        vertical-align: middle;\n",
              "    }\n",
              "\n",
              "    .dataframe tbody tr th {\n",
              "        vertical-align: top;\n",
              "    }\n",
              "\n",
              "    .dataframe thead th {\n",
              "        text-align: right;\n",
              "    }\n",
              "</style>\n",
              "<table border=\"1\" class=\"dataframe\">\n",
              "  <thead>\n",
              "    <tr style=\"text-align: right;\">\n",
              "      <th></th>\n",
              "      <th>Dress_ID</th>\n",
              "      <th>29-08-2013</th>\n",
              "      <th>31-08-2013</th>\n",
              "      <th>09-02-2013</th>\n",
              "      <th>09-04-2013</th>\n",
              "      <th>09-06-2013</th>\n",
              "      <th>09-08-2013</th>\n",
              "      <th>09-10-2013</th>\n",
              "      <th>09-12-2013</th>\n",
              "      <th>14-09-2013</th>\n",
              "      <th>16-09-2013</th>\n",
              "      <th>18-09-2013</th>\n",
              "      <th>20-09-2013</th>\n",
              "      <th>22-09-2013</th>\n",
              "      <th>24-09-2013</th>\n",
              "      <th>26-09-2013</th>\n",
              "      <th>28-09-2013</th>\n",
              "      <th>30-09-2013</th>\n",
              "      <th>10-02-2013</th>\n",
              "      <th>10-04-2013</th>\n",
              "      <th>10-06-2013</th>\n",
              "      <th>10-08-2013</th>\n",
              "      <th>10-10-2013</th>\n",
              "      <th>10-12-2013</th>\n",
              "    </tr>\n",
              "  </thead>\n",
              "  <tbody>\n",
              "    <tr>\n",
              "      <th>0</th>\n",
              "      <td>1.006033e+09</td>\n",
              "      <td>2114</td>\n",
              "      <td>2274</td>\n",
              "      <td>2491</td>\n",
              "      <td>2660</td>\n",
              "      <td>2727</td>\n",
              "      <td>2887</td>\n",
              "      <td>2930</td>\n",
              "      <td>3119</td>\n",
              "      <td>3204</td>\n",
              "      <td>3277</td>\n",
              "      <td>3321</td>\n",
              "      <td>3386</td>\n",
              "      <td>3479</td>\n",
              "      <td>3554</td>\n",
              "      <td>3624.0</td>\n",
              "      <td>3706</td>\n",
              "      <td>3746.0</td>\n",
              "      <td>3795.0</td>\n",
              "      <td>3832.0</td>\n",
              "      <td>3897</td>\n",
              "      <td>3923.0</td>\n",
              "      <td>3985.0</td>\n",
              "      <td>4048</td>\n",
              "    </tr>\n",
              "    <tr>\n",
              "      <th>1</th>\n",
              "      <td>1.212192e+09</td>\n",
              "      <td>151</td>\n",
              "      <td>275</td>\n",
              "      <td>570</td>\n",
              "      <td>750</td>\n",
              "      <td>813</td>\n",
              "      <td>1066</td>\n",
              "      <td>1164</td>\n",
              "      <td>1558</td>\n",
              "      <td>1756</td>\n",
              "      <td>1878</td>\n",
              "      <td>1985</td>\n",
              "      <td>2106</td>\n",
              "      <td>2454</td>\n",
              "      <td>2710</td>\n",
              "      <td>2942.0</td>\n",
              "      <td>3258</td>\n",
              "      <td>3354.0</td>\n",
              "      <td>3475.0</td>\n",
              "      <td>3654.0</td>\n",
              "      <td>3911</td>\n",
              "      <td>4024.0</td>\n",
              "      <td>4125.0</td>\n",
              "      <td>4277</td>\n",
              "    </tr>\n",
              "    <tr>\n",
              "      <th>2</th>\n",
              "      <td>1.190381e+09</td>\n",
              "      <td>6</td>\n",
              "      <td>7</td>\n",
              "      <td>7</td>\n",
              "      <td>7</td>\n",
              "      <td>8</td>\n",
              "      <td>8</td>\n",
              "      <td>9</td>\n",
              "      <td>10</td>\n",
              "      <td>10</td>\n",
              "      <td>10</td>\n",
              "      <td>10</td>\n",
              "      <td>10</td>\n",
              "      <td>11</td>\n",
              "      <td>11</td>\n",
              "      <td>11.0</td>\n",
              "      <td>11</td>\n",
              "      <td>11.0</td>\n",
              "      <td>11.0</td>\n",
              "      <td>11.0</td>\n",
              "      <td>11</td>\n",
              "      <td>11.0</td>\n",
              "      <td>11.0</td>\n",
              "      <td>11</td>\n",
              "    </tr>\n",
              "    <tr>\n",
              "      <th>3</th>\n",
              "      <td>9.660060e+08</td>\n",
              "      <td>1005</td>\n",
              "      <td>1128</td>\n",
              "      <td>1326</td>\n",
              "      <td>1455</td>\n",
              "      <td>1507</td>\n",
              "      <td>1621</td>\n",
              "      <td>1637</td>\n",
              "      <td>1723</td>\n",
              "      <td>1746</td>\n",
              "      <td>1783</td>\n",
              "      <td>1796</td>\n",
              "      <td>1812</td>\n",
              "      <td>1845</td>\n",
              "      <td>1878</td>\n",
              "      <td>1892.0</td>\n",
              "      <td>1914</td>\n",
              "      <td>1924.0</td>\n",
              "      <td>1929.0</td>\n",
              "      <td>1941.0</td>\n",
              "      <td>1952</td>\n",
              "      <td>1955.0</td>\n",
              "      <td>1959.0</td>\n",
              "      <td>1963</td>\n",
              "    </tr>\n",
              "    <tr>\n",
              "      <th>4</th>\n",
              "      <td>8.763395e+08</td>\n",
              "      <td>996</td>\n",
              "      <td>1175</td>\n",
              "      <td>1304</td>\n",
              "      <td>1396</td>\n",
              "      <td>1432</td>\n",
              "      <td>1559</td>\n",
              "      <td>1570</td>\n",
              "      <td>1638</td>\n",
              "      <td>1655</td>\n",
              "      <td>1681</td>\n",
              "      <td>1743</td>\n",
              "      <td>1824</td>\n",
              "      <td>1919</td>\n",
              "      <td>2032</td>\n",
              "      <td>2156.0</td>\n",
              "      <td>2252</td>\n",
              "      <td>2312.0</td>\n",
              "      <td>2387.0</td>\n",
              "      <td>2459.0</td>\n",
              "      <td>2544</td>\n",
              "      <td>2614.0</td>\n",
              "      <td>2693.0</td>\n",
              "      <td>2736</td>\n",
              "    </tr>\n",
              "  </tbody>\n",
              "</table>\n",
              "</div>"
            ],
            "text/plain": [
              "       Dress_ID  29-08-2013  31-08-2013  ...  10-08-2013  10-10-2013  10-12-2013\n",
              "0  1.006033e+09        2114        2274  ...      3923.0      3985.0        4048\n",
              "1  1.212192e+09         151         275  ...      4024.0      4125.0        4277\n",
              "2  1.190381e+09           6           7  ...        11.0        11.0          11\n",
              "3  9.660060e+08        1005        1128  ...      1955.0      1959.0        1963\n",
              "4  8.763395e+08         996        1175  ...      2614.0      2693.0        2736\n",
              "\n",
              "[5 rows x 24 columns]"
            ]
          },
          "metadata": {
            "tags": []
          },
          "execution_count": 320
        }
      ]
    },
    {
      "cell_type": "code",
      "metadata": {
        "colab": {
          "base_uri": "https://localhost:8080/"
        },
        "id": "0yW-hjzwg23v",
        "outputId": "6aa2f0a6-5a8a-4b33-c8a1-ac306f6dd08d"
      },
      "source": [
        "df.info()"
      ],
      "execution_count": null,
      "outputs": [
        {
          "output_type": "stream",
          "text": [
            "<class 'pandas.core.frame.DataFrame'>\n",
            "RangeIndex: 479 entries, 0 to 478\n",
            "Data columns (total 24 columns):\n",
            " #   Column      Non-Null Count  Dtype  \n",
            "---  ------      --------------  -----  \n",
            " 0   Dress_ID    479 non-null    float64\n",
            " 1   29-08-2013  479 non-null    int64  \n",
            " 2   31-08-2013  479 non-null    int64  \n",
            " 3   09-02-2013  479 non-null    int64  \n",
            " 4   09-04-2013  479 non-null    int64  \n",
            " 5   09-06-2013  479 non-null    int64  \n",
            " 6   09-08-2013  479 non-null    int64  \n",
            " 7   09-10-2013  479 non-null    int64  \n",
            " 8   09-12-2013  479 non-null    object \n",
            " 9   14-09-2013  479 non-null    object \n",
            " 10  16-09-2013  479 non-null    object \n",
            " 11  18-09-2013  479 non-null    object \n",
            " 12  20-09-2013  479 non-null    object \n",
            " 13  22-09-2013  479 non-null    object \n",
            " 14  24-09-2013  479 non-null    int64  \n",
            " 15  26-09-2013  257 non-null    float64\n",
            " 16  28-09-2013  479 non-null    int64  \n",
            " 17  30-09-2013  222 non-null    float64\n",
            " 18  10-02-2013  220 non-null    float64\n",
            " 19  10-04-2013  221 non-null    float64\n",
            " 20  10-06-2013  479 non-null    int64  \n",
            " 21  10-08-2013  224 non-null    float64\n",
            " 22  10-10-2013  224 non-null    float64\n",
            " 23  10-12-2013  479 non-null    int64  \n",
            "dtypes: float64(7), int64(11), object(6)\n",
            "memory usage: 89.9+ KB\n"
          ],
          "name": "stdout"
        }
      ]
    },
    {
      "cell_type": "markdown",
      "metadata": {
        "id": "lKjSm4jahaWM"
      },
      "source": [
        "checking the objects in the data"
      ]
    },
    {
      "cell_type": "code",
      "metadata": {
        "colab": {
          "base_uri": "https://localhost:8080/"
        },
        "id": "zZ1wxhWeg9lx",
        "outputId": "f99e5744-21f7-42d5-d522-b7048afdffe3"
      },
      "source": [
        "df['09-12-2013'][(df['09-12-2013'].apply(lambda x:isinstance(x,(int,float))))]"
      ],
      "execution_count": null,
      "outputs": [
        {
          "output_type": "execute_result",
          "data": {
            "text/plain": [
              "Series([], Name: 09-12-2013, dtype: object)"
            ]
          },
          "metadata": {
            "tags": []
          },
          "execution_count": 322
        }
      ]
    },
    {
      "cell_type": "code",
      "metadata": {
        "id": "DkP58PSThmSD"
      },
      "source": [
        "def obj(x):\n",
        "    try:\n",
        "        return int(x)\n",
        "    except:\n",
        "        return str(x)"
      ],
      "execution_count": null,
      "outputs": []
    },
    {
      "cell_type": "code",
      "metadata": {
        "id": "8uegDeiUhynX"
      },
      "source": [
        "df['09-12-2013']=df['09-12-2013'].apply(obj)"
      ],
      "execution_count": null,
      "outputs": []
    },
    {
      "cell_type": "code",
      "metadata": {
        "colab": {
          "base_uri": "https://localhost:8080/"
        },
        "id": "h7v_U26mjMH5",
        "outputId": "bf3317f6-41b3-4dec-ee38-26cf51bcd050"
      },
      "source": [
        "df['09-12-2013'][~(df['09-12-2013'].apply(lambda x:isinstance(x,(int,float))))]"
      ],
      "execution_count": null,
      "outputs": [
        {
          "output_type": "execute_result",
          "data": {
            "text/plain": [
              "263    Removed\n",
              "Name: 09-12-2013, dtype: object"
            ]
          },
          "metadata": {
            "tags": []
          },
          "execution_count": 325
        }
      ]
    },
    {
      "cell_type": "code",
      "metadata": {
        "id": "JbWFPE34jPPg"
      },
      "source": [
        "df=pd.read_csv('https://raw.githubusercontent.com/venkatesh-eranti/myntra_sales_case-study/main/Dress%2BSales.csv',na_values='Removed')"
      ],
      "execution_count": null,
      "outputs": []
    },
    {
      "cell_type": "code",
      "metadata": {
        "colab": {
          "base_uri": "https://localhost:8080/"
        },
        "id": "Q8uIx1pojVzR",
        "outputId": "1bd97607-3e86-4bd9-e9ab-310dd47543e1"
      },
      "source": [
        "df.info()"
      ],
      "execution_count": null,
      "outputs": [
        {
          "output_type": "stream",
          "text": [
            "<class 'pandas.core.frame.DataFrame'>\n",
            "RangeIndex: 479 entries, 0 to 478\n",
            "Data columns (total 24 columns):\n",
            " #   Column      Non-Null Count  Dtype  \n",
            "---  ------      --------------  -----  \n",
            " 0   Dress_ID    479 non-null    float64\n",
            " 1   29-08-2013  479 non-null    int64  \n",
            " 2   31-08-2013  479 non-null    int64  \n",
            " 3   09-02-2013  479 non-null    int64  \n",
            " 4   09-04-2013  479 non-null    int64  \n",
            " 5   09-06-2013  479 non-null    int64  \n",
            " 6   09-08-2013  479 non-null    int64  \n",
            " 7   09-10-2013  479 non-null    int64  \n",
            " 8   09-12-2013  478 non-null    float64\n",
            " 9   14-09-2013  479 non-null    object \n",
            " 10  16-09-2013  479 non-null    object \n",
            " 11  18-09-2013  479 non-null    object \n",
            " 12  20-09-2013  479 non-null    object \n",
            " 13  22-09-2013  479 non-null    object \n",
            " 14  24-09-2013  479 non-null    int64  \n",
            " 15  26-09-2013  257 non-null    float64\n",
            " 16  28-09-2013  479 non-null    int64  \n",
            " 17  30-09-2013  222 non-null    float64\n",
            " 18  10-02-2013  220 non-null    float64\n",
            " 19  10-04-2013  221 non-null    float64\n",
            " 20  10-06-2013  479 non-null    int64  \n",
            " 21  10-08-2013  224 non-null    float64\n",
            " 22  10-10-2013  224 non-null    float64\n",
            " 23  10-12-2013  479 non-null    int64  \n",
            "dtypes: float64(8), int64(11), object(5)\n",
            "memory usage: 89.9+ KB\n"
          ],
          "name": "stdout"
        }
      ]
    },
    {
      "cell_type": "code",
      "metadata": {
        "id": "eeel5a9_jcjR"
      },
      "source": [
        "df['14-09-2013']=df['14-09-2013'].apply(obj)"
      ],
      "execution_count": null,
      "outputs": []
    },
    {
      "cell_type": "code",
      "metadata": {
        "colab": {
          "base_uri": "https://localhost:8080/"
        },
        "id": "Lj0QAcl-jiwx",
        "outputId": "eb6c46d1-1cfd-4292-abd2-28ccd40a7ef2"
      },
      "source": [
        "df['14-09-2013'][~(df['14-09-2013'].apply(lambda x:isinstance(x,(int,float))))]"
      ],
      "execution_count": null,
      "outputs": [
        {
          "output_type": "execute_result",
          "data": {
            "text/plain": [
              "263    removed\n",
              "Name: 14-09-2013, dtype: object"
            ]
          },
          "metadata": {
            "tags": []
          },
          "execution_count": 329
        }
      ]
    },
    {
      "cell_type": "code",
      "metadata": {
        "id": "Qkf0RZmmjoZg"
      },
      "source": [
        "df=pd.read_csv('https://raw.githubusercontent.com/venkatesh-eranti/myntra_sales_case-study/main/Dress%2BSales.csv',na_values=['Removed','removed'])"
      ],
      "execution_count": null,
      "outputs": []
    },
    {
      "cell_type": "code",
      "metadata": {
        "colab": {
          "base_uri": "https://localhost:8080/"
        },
        "id": "540tc2y4jriZ",
        "outputId": "305df090-c22d-4c20-8eaf-0a02c6c02fc1"
      },
      "source": [
        "df.info()"
      ],
      "execution_count": null,
      "outputs": [
        {
          "output_type": "stream",
          "text": [
            "<class 'pandas.core.frame.DataFrame'>\n",
            "RangeIndex: 479 entries, 0 to 478\n",
            "Data columns (total 24 columns):\n",
            " #   Column      Non-Null Count  Dtype  \n",
            "---  ------      --------------  -----  \n",
            " 0   Dress_ID    479 non-null    float64\n",
            " 1   29-08-2013  479 non-null    int64  \n",
            " 2   31-08-2013  479 non-null    int64  \n",
            " 3   09-02-2013  479 non-null    int64  \n",
            " 4   09-04-2013  479 non-null    int64  \n",
            " 5   09-06-2013  479 non-null    int64  \n",
            " 6   09-08-2013  479 non-null    int64  \n",
            " 7   09-10-2013  479 non-null    int64  \n",
            " 8   09-12-2013  478 non-null    float64\n",
            " 9   14-09-2013  478 non-null    float64\n",
            " 10  16-09-2013  478 non-null    float64\n",
            " 11  18-09-2013  478 non-null    float64\n",
            " 12  20-09-2013  478 non-null    float64\n",
            " 13  22-09-2013  479 non-null    object \n",
            " 14  24-09-2013  479 non-null    int64  \n",
            " 15  26-09-2013  257 non-null    float64\n",
            " 16  28-09-2013  479 non-null    int64  \n",
            " 17  30-09-2013  222 non-null    float64\n",
            " 18  10-02-2013  220 non-null    float64\n",
            " 19  10-04-2013  221 non-null    float64\n",
            " 20  10-06-2013  479 non-null    int64  \n",
            " 21  10-08-2013  224 non-null    float64\n",
            " 22  10-10-2013  224 non-null    float64\n",
            " 23  10-12-2013  479 non-null    int64  \n",
            "dtypes: float64(12), int64(11), object(1)\n",
            "memory usage: 89.9+ KB\n"
          ],
          "name": "stdout"
        }
      ]
    },
    {
      "cell_type": "code",
      "metadata": {
        "colab": {
          "base_uri": "https://localhost:8080/"
        },
        "id": "kmQM8fsPjw_J",
        "outputId": "29bc3216-c6d6-48fc-d247-41331057bbfe"
      },
      "source": [
        "df['22-09-2013']=df['22-09-2013'].apply(obj)\n",
        "df['22-09-2013'][~(df['22-09-2013'].apply(lambda x:isinstance(x,(int,float))))]"
      ],
      "execution_count": null,
      "outputs": [
        {
          "output_type": "execute_result",
          "data": {
            "text/plain": [
              "119    Orders\n",
              "Name: 22-09-2013, dtype: object"
            ]
          },
          "metadata": {
            "tags": []
          },
          "execution_count": 332
        }
      ]
    },
    {
      "cell_type": "code",
      "metadata": {
        "id": "sMffqiVBj5eS"
      },
      "source": [
        "df=pd.read_csv('https://raw.githubusercontent.com/venkatesh-eranti/myntra_sales_case-study/main/Dress%2BSales.csv',na_values=['Removed','removed','Orders'])"
      ],
      "execution_count": null,
      "outputs": []
    },
    {
      "cell_type": "code",
      "metadata": {
        "colab": {
          "base_uri": "https://localhost:8080/"
        },
        "id": "lvuwiR-Qj70J",
        "outputId": "58c2925f-43c3-4c27-ab53-ae7fdcab10e4"
      },
      "source": [
        "df.info()"
      ],
      "execution_count": null,
      "outputs": [
        {
          "output_type": "stream",
          "text": [
            "<class 'pandas.core.frame.DataFrame'>\n",
            "RangeIndex: 479 entries, 0 to 478\n",
            "Data columns (total 24 columns):\n",
            " #   Column      Non-Null Count  Dtype  \n",
            "---  ------      --------------  -----  \n",
            " 0   Dress_ID    479 non-null    float64\n",
            " 1   29-08-2013  479 non-null    int64  \n",
            " 2   31-08-2013  479 non-null    int64  \n",
            " 3   09-02-2013  479 non-null    int64  \n",
            " 4   09-04-2013  479 non-null    int64  \n",
            " 5   09-06-2013  479 non-null    int64  \n",
            " 6   09-08-2013  479 non-null    int64  \n",
            " 7   09-10-2013  479 non-null    int64  \n",
            " 8   09-12-2013  478 non-null    float64\n",
            " 9   14-09-2013  478 non-null    float64\n",
            " 10  16-09-2013  478 non-null    float64\n",
            " 11  18-09-2013  478 non-null    float64\n",
            " 12  20-09-2013  478 non-null    float64\n",
            " 13  22-09-2013  478 non-null    float64\n",
            " 14  24-09-2013  479 non-null    int64  \n",
            " 15  26-09-2013  257 non-null    float64\n",
            " 16  28-09-2013  479 non-null    int64  \n",
            " 17  30-09-2013  222 non-null    float64\n",
            " 18  10-02-2013  220 non-null    float64\n",
            " 19  10-04-2013  221 non-null    float64\n",
            " 20  10-06-2013  479 non-null    int64  \n",
            " 21  10-08-2013  224 non-null    float64\n",
            " 22  10-10-2013  224 non-null    float64\n",
            " 23  10-12-2013  479 non-null    int64  \n",
            "dtypes: float64(13), int64(11)\n",
            "memory usage: 89.9 KB\n"
          ],
          "name": "stdout"
        }
      ]
    },
    {
      "cell_type": "code",
      "metadata": {
        "colab": {
          "base_uri": "https://localhost:8080/",
          "height": 253
        },
        "id": "JN-44kEXkrIY",
        "outputId": "66d8b210-2749-4a52-cc5e-6722748bc942"
      },
      "source": [
        "df.head()"
      ],
      "execution_count": null,
      "outputs": [
        {
          "output_type": "execute_result",
          "data": {
            "text/html": [
              "<div>\n",
              "<style scoped>\n",
              "    .dataframe tbody tr th:only-of-type {\n",
              "        vertical-align: middle;\n",
              "    }\n",
              "\n",
              "    .dataframe tbody tr th {\n",
              "        vertical-align: top;\n",
              "    }\n",
              "\n",
              "    .dataframe thead th {\n",
              "        text-align: right;\n",
              "    }\n",
              "</style>\n",
              "<table border=\"1\" class=\"dataframe\">\n",
              "  <thead>\n",
              "    <tr style=\"text-align: right;\">\n",
              "      <th></th>\n",
              "      <th>Dress_ID</th>\n",
              "      <th>29-08-2013</th>\n",
              "      <th>31-08-2013</th>\n",
              "      <th>09-02-2013</th>\n",
              "      <th>09-04-2013</th>\n",
              "      <th>09-06-2013</th>\n",
              "      <th>09-08-2013</th>\n",
              "      <th>09-10-2013</th>\n",
              "      <th>09-12-2013</th>\n",
              "      <th>14-09-2013</th>\n",
              "      <th>16-09-2013</th>\n",
              "      <th>18-09-2013</th>\n",
              "      <th>20-09-2013</th>\n",
              "      <th>22-09-2013</th>\n",
              "      <th>24-09-2013</th>\n",
              "      <th>26-09-2013</th>\n",
              "      <th>28-09-2013</th>\n",
              "      <th>30-09-2013</th>\n",
              "      <th>10-02-2013</th>\n",
              "      <th>10-04-2013</th>\n",
              "      <th>10-06-2013</th>\n",
              "      <th>10-08-2013</th>\n",
              "      <th>10-10-2013</th>\n",
              "      <th>10-12-2013</th>\n",
              "    </tr>\n",
              "  </thead>\n",
              "  <tbody>\n",
              "    <tr>\n",
              "      <th>0</th>\n",
              "      <td>1.006033e+09</td>\n",
              "      <td>2114</td>\n",
              "      <td>2274</td>\n",
              "      <td>2491</td>\n",
              "      <td>2660</td>\n",
              "      <td>2727</td>\n",
              "      <td>2887</td>\n",
              "      <td>2930</td>\n",
              "      <td>3119.0</td>\n",
              "      <td>3204.0</td>\n",
              "      <td>3277.0</td>\n",
              "      <td>3321.0</td>\n",
              "      <td>3386.0</td>\n",
              "      <td>3479.0</td>\n",
              "      <td>3554</td>\n",
              "      <td>3624.0</td>\n",
              "      <td>3706</td>\n",
              "      <td>3746.0</td>\n",
              "      <td>3795.0</td>\n",
              "      <td>3832.0</td>\n",
              "      <td>3897</td>\n",
              "      <td>3923.0</td>\n",
              "      <td>3985.0</td>\n",
              "      <td>4048</td>\n",
              "    </tr>\n",
              "    <tr>\n",
              "      <th>1</th>\n",
              "      <td>1.212192e+09</td>\n",
              "      <td>151</td>\n",
              "      <td>275</td>\n",
              "      <td>570</td>\n",
              "      <td>750</td>\n",
              "      <td>813</td>\n",
              "      <td>1066</td>\n",
              "      <td>1164</td>\n",
              "      <td>1558.0</td>\n",
              "      <td>1756.0</td>\n",
              "      <td>1878.0</td>\n",
              "      <td>1985.0</td>\n",
              "      <td>2106.0</td>\n",
              "      <td>2454.0</td>\n",
              "      <td>2710</td>\n",
              "      <td>2942.0</td>\n",
              "      <td>3258</td>\n",
              "      <td>3354.0</td>\n",
              "      <td>3475.0</td>\n",
              "      <td>3654.0</td>\n",
              "      <td>3911</td>\n",
              "      <td>4024.0</td>\n",
              "      <td>4125.0</td>\n",
              "      <td>4277</td>\n",
              "    </tr>\n",
              "    <tr>\n",
              "      <th>2</th>\n",
              "      <td>1.190381e+09</td>\n",
              "      <td>6</td>\n",
              "      <td>7</td>\n",
              "      <td>7</td>\n",
              "      <td>7</td>\n",
              "      <td>8</td>\n",
              "      <td>8</td>\n",
              "      <td>9</td>\n",
              "      <td>10.0</td>\n",
              "      <td>10.0</td>\n",
              "      <td>10.0</td>\n",
              "      <td>10.0</td>\n",
              "      <td>10.0</td>\n",
              "      <td>11.0</td>\n",
              "      <td>11</td>\n",
              "      <td>11.0</td>\n",
              "      <td>11</td>\n",
              "      <td>11.0</td>\n",
              "      <td>11.0</td>\n",
              "      <td>11.0</td>\n",
              "      <td>11</td>\n",
              "      <td>11.0</td>\n",
              "      <td>11.0</td>\n",
              "      <td>11</td>\n",
              "    </tr>\n",
              "    <tr>\n",
              "      <th>3</th>\n",
              "      <td>9.660060e+08</td>\n",
              "      <td>1005</td>\n",
              "      <td>1128</td>\n",
              "      <td>1326</td>\n",
              "      <td>1455</td>\n",
              "      <td>1507</td>\n",
              "      <td>1621</td>\n",
              "      <td>1637</td>\n",
              "      <td>1723.0</td>\n",
              "      <td>1746.0</td>\n",
              "      <td>1783.0</td>\n",
              "      <td>1796.0</td>\n",
              "      <td>1812.0</td>\n",
              "      <td>1845.0</td>\n",
              "      <td>1878</td>\n",
              "      <td>1892.0</td>\n",
              "      <td>1914</td>\n",
              "      <td>1924.0</td>\n",
              "      <td>1929.0</td>\n",
              "      <td>1941.0</td>\n",
              "      <td>1952</td>\n",
              "      <td>1955.0</td>\n",
              "      <td>1959.0</td>\n",
              "      <td>1963</td>\n",
              "    </tr>\n",
              "    <tr>\n",
              "      <th>4</th>\n",
              "      <td>8.763395e+08</td>\n",
              "      <td>996</td>\n",
              "      <td>1175</td>\n",
              "      <td>1304</td>\n",
              "      <td>1396</td>\n",
              "      <td>1432</td>\n",
              "      <td>1559</td>\n",
              "      <td>1570</td>\n",
              "      <td>1638.0</td>\n",
              "      <td>1655.0</td>\n",
              "      <td>1681.0</td>\n",
              "      <td>1743.0</td>\n",
              "      <td>1824.0</td>\n",
              "      <td>1919.0</td>\n",
              "      <td>2032</td>\n",
              "      <td>2156.0</td>\n",
              "      <td>2252</td>\n",
              "      <td>2312.0</td>\n",
              "      <td>2387.0</td>\n",
              "      <td>2459.0</td>\n",
              "      <td>2544</td>\n",
              "      <td>2614.0</td>\n",
              "      <td>2693.0</td>\n",
              "      <td>2736</td>\n",
              "    </tr>\n",
              "  </tbody>\n",
              "</table>\n",
              "</div>"
            ],
            "text/plain": [
              "       Dress_ID  29-08-2013  31-08-2013  ...  10-08-2013  10-10-2013  10-12-2013\n",
              "0  1.006033e+09        2114        2274  ...      3923.0      3985.0        4048\n",
              "1  1.212192e+09         151         275  ...      4024.0      4125.0        4277\n",
              "2  1.190381e+09           6           7  ...        11.0        11.0          11\n",
              "3  9.660060e+08        1005        1128  ...      1955.0      1959.0        1963\n",
              "4  8.763395e+08         996        1175  ...      2614.0      2693.0        2736\n",
              "\n",
              "[5 rows x 24 columns]"
            ]
          },
          "metadata": {
            "tags": []
          },
          "execution_count": 335
        }
      ]
    },
    {
      "cell_type": "code",
      "metadata": {
        "id": "spXHfUg_eBsL"
      },
      "source": [
        "df.fillna(0,inplace=True)"
      ],
      "execution_count": null,
      "outputs": []
    },
    {
      "cell_type": "markdown",
      "metadata": {
        "id": "9eOHiJNokdV7"
      },
      "source": [
        "1. Summer (from March to May) <br>\n",
        "2. Rainy season (June to September) <br>\n",
        "3. Autumn season (from October to November) <br>\n",
        "4. Winter season (from December to February) <br>"
      ]
    },
    {
      "cell_type": "code",
      "metadata": {
        "id": "Rdcbfaf7lAtL"
      },
      "source": [
        "df['winter']=df['09-02-2013']+df['10-02-2013']+df['09-12-2013']+df['10-12-2013']\n",
        "df['summer']=df['09-04-2013']+df['10-04-2013']\n",
        "df['rainy']=df['09-06-2013']+df['10-06-2013']+df['29-08-2013']+df['31-08-2013']+df['09-08-2013']+df['14-09-2013']+df['16-09-2013']+df['18-09-2013']+df['20-09-2013']+df['22-09-2013']+df['24-09-2013']+df['26-09-2013']+df['28-09-2013']+df['30-09-2013']+df['10-08-2013']\n",
        "df['autumn']=df['09-10-2013']+df['10-10-2013']"
      ],
      "execution_count": null,
      "outputs": []
    },
    {
      "cell_type": "code",
      "metadata": {
        "colab": {
          "base_uri": "https://localhost:8080/",
          "height": 253
        },
        "id": "HlefpPVL75qw",
        "outputId": "8b16576e-de44-444f-c5fe-5d7442f2fc0a"
      },
      "source": [
        "df.head()"
      ],
      "execution_count": null,
      "outputs": [
        {
          "output_type": "execute_result",
          "data": {
            "text/html": [
              "<div>\n",
              "<style scoped>\n",
              "    .dataframe tbody tr th:only-of-type {\n",
              "        vertical-align: middle;\n",
              "    }\n",
              "\n",
              "    .dataframe tbody tr th {\n",
              "        vertical-align: top;\n",
              "    }\n",
              "\n",
              "    .dataframe thead th {\n",
              "        text-align: right;\n",
              "    }\n",
              "</style>\n",
              "<table border=\"1\" class=\"dataframe\">\n",
              "  <thead>\n",
              "    <tr style=\"text-align: right;\">\n",
              "      <th></th>\n",
              "      <th>Dress_ID</th>\n",
              "      <th>29-08-2013</th>\n",
              "      <th>31-08-2013</th>\n",
              "      <th>09-02-2013</th>\n",
              "      <th>09-04-2013</th>\n",
              "      <th>09-06-2013</th>\n",
              "      <th>09-08-2013</th>\n",
              "      <th>09-10-2013</th>\n",
              "      <th>09-12-2013</th>\n",
              "      <th>14-09-2013</th>\n",
              "      <th>16-09-2013</th>\n",
              "      <th>18-09-2013</th>\n",
              "      <th>20-09-2013</th>\n",
              "      <th>22-09-2013</th>\n",
              "      <th>24-09-2013</th>\n",
              "      <th>26-09-2013</th>\n",
              "      <th>28-09-2013</th>\n",
              "      <th>30-09-2013</th>\n",
              "      <th>10-02-2013</th>\n",
              "      <th>10-04-2013</th>\n",
              "      <th>10-06-2013</th>\n",
              "      <th>10-08-2013</th>\n",
              "      <th>10-10-2013</th>\n",
              "      <th>10-12-2013</th>\n",
              "      <th>winter</th>\n",
              "      <th>summer</th>\n",
              "      <th>rainy</th>\n",
              "      <th>autumn</th>\n",
              "    </tr>\n",
              "  </thead>\n",
              "  <tbody>\n",
              "    <tr>\n",
              "      <th>0</th>\n",
              "      <td>1.006033e+09</td>\n",
              "      <td>2114</td>\n",
              "      <td>2274</td>\n",
              "      <td>2491</td>\n",
              "      <td>2660</td>\n",
              "      <td>2727</td>\n",
              "      <td>2887</td>\n",
              "      <td>2930</td>\n",
              "      <td>3119.0</td>\n",
              "      <td>3204.0</td>\n",
              "      <td>3277.0</td>\n",
              "      <td>3321.0</td>\n",
              "      <td>3386.0</td>\n",
              "      <td>3479.0</td>\n",
              "      <td>3554</td>\n",
              "      <td>3624.0</td>\n",
              "      <td>3706</td>\n",
              "      <td>3746.0</td>\n",
              "      <td>3795.0</td>\n",
              "      <td>3832.0</td>\n",
              "      <td>3897</td>\n",
              "      <td>3923.0</td>\n",
              "      <td>3985.0</td>\n",
              "      <td>4048</td>\n",
              "      <td>13453.0</td>\n",
              "      <td>6492.0</td>\n",
              "      <td>49119.0</td>\n",
              "      <td>6915.0</td>\n",
              "    </tr>\n",
              "    <tr>\n",
              "      <th>1</th>\n",
              "      <td>1.212192e+09</td>\n",
              "      <td>151</td>\n",
              "      <td>275</td>\n",
              "      <td>570</td>\n",
              "      <td>750</td>\n",
              "      <td>813</td>\n",
              "      <td>1066</td>\n",
              "      <td>1164</td>\n",
              "      <td>1558.0</td>\n",
              "      <td>1756.0</td>\n",
              "      <td>1878.0</td>\n",
              "      <td>1985.0</td>\n",
              "      <td>2106.0</td>\n",
              "      <td>2454.0</td>\n",
              "      <td>2710</td>\n",
              "      <td>2942.0</td>\n",
              "      <td>3258</td>\n",
              "      <td>3354.0</td>\n",
              "      <td>3475.0</td>\n",
              "      <td>3654.0</td>\n",
              "      <td>3911</td>\n",
              "      <td>4024.0</td>\n",
              "      <td>4125.0</td>\n",
              "      <td>4277</td>\n",
              "      <td>9880.0</td>\n",
              "      <td>4404.0</td>\n",
              "      <td>32683.0</td>\n",
              "      <td>5289.0</td>\n",
              "    </tr>\n",
              "    <tr>\n",
              "      <th>2</th>\n",
              "      <td>1.190381e+09</td>\n",
              "      <td>6</td>\n",
              "      <td>7</td>\n",
              "      <td>7</td>\n",
              "      <td>7</td>\n",
              "      <td>8</td>\n",
              "      <td>8</td>\n",
              "      <td>9</td>\n",
              "      <td>10.0</td>\n",
              "      <td>10.0</td>\n",
              "      <td>10.0</td>\n",
              "      <td>10.0</td>\n",
              "      <td>10.0</td>\n",
              "      <td>11.0</td>\n",
              "      <td>11</td>\n",
              "      <td>11.0</td>\n",
              "      <td>11</td>\n",
              "      <td>11.0</td>\n",
              "      <td>11.0</td>\n",
              "      <td>11.0</td>\n",
              "      <td>11</td>\n",
              "      <td>11.0</td>\n",
              "      <td>11.0</td>\n",
              "      <td>11</td>\n",
              "      <td>39.0</td>\n",
              "      <td>18.0</td>\n",
              "      <td>146.0</td>\n",
              "      <td>20.0</td>\n",
              "    </tr>\n",
              "    <tr>\n",
              "      <th>3</th>\n",
              "      <td>9.660060e+08</td>\n",
              "      <td>1005</td>\n",
              "      <td>1128</td>\n",
              "      <td>1326</td>\n",
              "      <td>1455</td>\n",
              "      <td>1507</td>\n",
              "      <td>1621</td>\n",
              "      <td>1637</td>\n",
              "      <td>1723.0</td>\n",
              "      <td>1746.0</td>\n",
              "      <td>1783.0</td>\n",
              "      <td>1796.0</td>\n",
              "      <td>1812.0</td>\n",
              "      <td>1845.0</td>\n",
              "      <td>1878</td>\n",
              "      <td>1892.0</td>\n",
              "      <td>1914</td>\n",
              "      <td>1924.0</td>\n",
              "      <td>1929.0</td>\n",
              "      <td>1941.0</td>\n",
              "      <td>1952</td>\n",
              "      <td>1955.0</td>\n",
              "      <td>1959.0</td>\n",
              "      <td>1963</td>\n",
              "      <td>6941.0</td>\n",
              "      <td>3396.0</td>\n",
              "      <td>25758.0</td>\n",
              "      <td>3596.0</td>\n",
              "    </tr>\n",
              "    <tr>\n",
              "      <th>4</th>\n",
              "      <td>8.763395e+08</td>\n",
              "      <td>996</td>\n",
              "      <td>1175</td>\n",
              "      <td>1304</td>\n",
              "      <td>1396</td>\n",
              "      <td>1432</td>\n",
              "      <td>1559</td>\n",
              "      <td>1570</td>\n",
              "      <td>1638.0</td>\n",
              "      <td>1655.0</td>\n",
              "      <td>1681.0</td>\n",
              "      <td>1743.0</td>\n",
              "      <td>1824.0</td>\n",
              "      <td>1919.0</td>\n",
              "      <td>2032</td>\n",
              "      <td>2156.0</td>\n",
              "      <td>2252</td>\n",
              "      <td>2312.0</td>\n",
              "      <td>2387.0</td>\n",
              "      <td>2459.0</td>\n",
              "      <td>2544</td>\n",
              "      <td>2614.0</td>\n",
              "      <td>2693.0</td>\n",
              "      <td>2736</td>\n",
              "      <td>8065.0</td>\n",
              "      <td>3855.0</td>\n",
              "      <td>27894.0</td>\n",
              "      <td>4263.0</td>\n",
              "    </tr>\n",
              "  </tbody>\n",
              "</table>\n",
              "</div>"
            ],
            "text/plain": [
              "       Dress_ID  29-08-2013  31-08-2013  ...  summer    rainy  autumn\n",
              "0  1.006033e+09        2114        2274  ...  6492.0  49119.0  6915.0\n",
              "1  1.212192e+09         151         275  ...  4404.0  32683.0  5289.0\n",
              "2  1.190381e+09           6           7  ...    18.0    146.0    20.0\n",
              "3  9.660060e+08        1005        1128  ...  3396.0  25758.0  3596.0\n",
              "4  8.763395e+08         996        1175  ...  3855.0  27894.0  4263.0\n",
              "\n",
              "[5 rows x 28 columns]"
            ]
          },
          "metadata": {
            "tags": []
          },
          "execution_count": 338
        }
      ]
    },
    {
      "cell_type": "code",
      "metadata": {
        "id": "FyNoluHf9Sjx"
      },
      "source": [
        "df=df.drop(df.loc[:,'29-08-2013':'10-12-2013'].columns,axis=1)"
      ],
      "execution_count": null,
      "outputs": []
    },
    {
      "cell_type": "code",
      "metadata": {
        "colab": {
          "base_uri": "https://localhost:8080/",
          "height": 198
        },
        "id": "z1oe5UCHlyRa",
        "outputId": "588823d6-8401-4a2b-88e3-8d1ec3382ed3"
      },
      "source": [
        "df.head()"
      ],
      "execution_count": null,
      "outputs": [
        {
          "output_type": "execute_result",
          "data": {
            "text/html": [
              "<div>\n",
              "<style scoped>\n",
              "    .dataframe tbody tr th:only-of-type {\n",
              "        vertical-align: middle;\n",
              "    }\n",
              "\n",
              "    .dataframe tbody tr th {\n",
              "        vertical-align: top;\n",
              "    }\n",
              "\n",
              "    .dataframe thead th {\n",
              "        text-align: right;\n",
              "    }\n",
              "</style>\n",
              "<table border=\"1\" class=\"dataframe\">\n",
              "  <thead>\n",
              "    <tr style=\"text-align: right;\">\n",
              "      <th></th>\n",
              "      <th>Dress_ID</th>\n",
              "      <th>winter</th>\n",
              "      <th>summer</th>\n",
              "      <th>rainy</th>\n",
              "      <th>autumn</th>\n",
              "    </tr>\n",
              "  </thead>\n",
              "  <tbody>\n",
              "    <tr>\n",
              "      <th>0</th>\n",
              "      <td>1.006033e+09</td>\n",
              "      <td>13453.0</td>\n",
              "      <td>6492.0</td>\n",
              "      <td>49119.0</td>\n",
              "      <td>6915.0</td>\n",
              "    </tr>\n",
              "    <tr>\n",
              "      <th>1</th>\n",
              "      <td>1.212192e+09</td>\n",
              "      <td>9880.0</td>\n",
              "      <td>4404.0</td>\n",
              "      <td>32683.0</td>\n",
              "      <td>5289.0</td>\n",
              "    </tr>\n",
              "    <tr>\n",
              "      <th>2</th>\n",
              "      <td>1.190381e+09</td>\n",
              "      <td>39.0</td>\n",
              "      <td>18.0</td>\n",
              "      <td>146.0</td>\n",
              "      <td>20.0</td>\n",
              "    </tr>\n",
              "    <tr>\n",
              "      <th>3</th>\n",
              "      <td>9.660060e+08</td>\n",
              "      <td>6941.0</td>\n",
              "      <td>3396.0</td>\n",
              "      <td>25758.0</td>\n",
              "      <td>3596.0</td>\n",
              "    </tr>\n",
              "    <tr>\n",
              "      <th>4</th>\n",
              "      <td>8.763395e+08</td>\n",
              "      <td>8065.0</td>\n",
              "      <td>3855.0</td>\n",
              "      <td>27894.0</td>\n",
              "      <td>4263.0</td>\n",
              "    </tr>\n",
              "  </tbody>\n",
              "</table>\n",
              "</div>"
            ],
            "text/plain": [
              "       Dress_ID   winter  summer    rainy  autumn\n",
              "0  1.006033e+09  13453.0  6492.0  49119.0  6915.0\n",
              "1  1.212192e+09   9880.0  4404.0  32683.0  5289.0\n",
              "2  1.190381e+09     39.0    18.0    146.0    20.0\n",
              "3  9.660060e+08   6941.0  3396.0  25758.0  3596.0\n",
              "4  8.763395e+08   8065.0  3855.0  27894.0  4263.0"
            ]
          },
          "metadata": {
            "tags": []
          },
          "execution_count": 340
        }
      ]
    },
    {
      "cell_type": "code",
      "metadata": {
        "id": "O-YuxqqWQ08B"
      },
      "source": [
        "df['total']=np.sum(df.iloc[:,1:],axis=1)"
      ],
      "execution_count": null,
      "outputs": []
    },
    {
      "cell_type": "code",
      "metadata": {
        "colab": {
          "base_uri": "https://localhost:8080/"
        },
        "id": "jWyTmFNufY38",
        "outputId": "d6dd642a-eb59-4118-b2fd-3333aee9790f"
      },
      "source": [
        "att=pd.read_csv('https://raw.githubusercontent.com/venkatesh-eranti/myntra_sales_case-study/main/Attribute%2BDataSet.csv')\n",
        "att.shape"
      ],
      "execution_count": null,
      "outputs": [
        {
          "output_type": "execute_result",
          "data": {
            "text/plain": [
              "(479, 13)"
            ]
          },
          "metadata": {
            "tags": []
          },
          "execution_count": 342
        }
      ]
    },
    {
      "cell_type": "code",
      "metadata": {
        "colab": {
          "base_uri": "https://localhost:8080/",
          "height": 198
        },
        "id": "NnYI2IDgffVw",
        "outputId": "9ad165e7-a8ef-4ad3-9d57-cda693feb3c1"
      },
      "source": [
        "att.head()"
      ],
      "execution_count": null,
      "outputs": [
        {
          "output_type": "execute_result",
          "data": {
            "text/html": [
              "<div>\n",
              "<style scoped>\n",
              "    .dataframe tbody tr th:only-of-type {\n",
              "        vertical-align: middle;\n",
              "    }\n",
              "\n",
              "    .dataframe tbody tr th {\n",
              "        vertical-align: top;\n",
              "    }\n",
              "\n",
              "    .dataframe thead th {\n",
              "        text-align: right;\n",
              "    }\n",
              "</style>\n",
              "<table border=\"1\" class=\"dataframe\">\n",
              "  <thead>\n",
              "    <tr style=\"text-align: right;\">\n",
              "      <th></th>\n",
              "      <th>Dress_ID</th>\n",
              "      <th>Style</th>\n",
              "      <th>Price</th>\n",
              "      <th>Rating</th>\n",
              "      <th>Size</th>\n",
              "      <th>Season</th>\n",
              "      <th>NeckLine</th>\n",
              "      <th>SleeveLength</th>\n",
              "      <th>Material</th>\n",
              "      <th>FabricType</th>\n",
              "      <th>Decoration</th>\n",
              "      <th>Pattern Type</th>\n",
              "      <th>Recommendation</th>\n",
              "    </tr>\n",
              "  </thead>\n",
              "  <tbody>\n",
              "    <tr>\n",
              "      <th>0</th>\n",
              "      <td>1006032852</td>\n",
              "      <td>Sexy</td>\n",
              "      <td>Low</td>\n",
              "      <td>4.6</td>\n",
              "      <td>M</td>\n",
              "      <td>Summer</td>\n",
              "      <td>o-neck</td>\n",
              "      <td>sleevless</td>\n",
              "      <td>NaN</td>\n",
              "      <td>chiffon</td>\n",
              "      <td>ruffles</td>\n",
              "      <td>animal</td>\n",
              "      <td>1</td>\n",
              "    </tr>\n",
              "    <tr>\n",
              "      <th>1</th>\n",
              "      <td>1212192089</td>\n",
              "      <td>Casual</td>\n",
              "      <td>Low</td>\n",
              "      <td>0.0</td>\n",
              "      <td>L</td>\n",
              "      <td>Summer</td>\n",
              "      <td>o-neck</td>\n",
              "      <td>Petal</td>\n",
              "      <td>microfiber</td>\n",
              "      <td>NaN</td>\n",
              "      <td>ruffles</td>\n",
              "      <td>animal</td>\n",
              "      <td>0</td>\n",
              "    </tr>\n",
              "    <tr>\n",
              "      <th>2</th>\n",
              "      <td>1190380701</td>\n",
              "      <td>vintage</td>\n",
              "      <td>High</td>\n",
              "      <td>0.0</td>\n",
              "      <td>L</td>\n",
              "      <td>Automn</td>\n",
              "      <td>o-neck</td>\n",
              "      <td>full</td>\n",
              "      <td>polyster</td>\n",
              "      <td>NaN</td>\n",
              "      <td>NaN</td>\n",
              "      <td>print</td>\n",
              "      <td>0</td>\n",
              "    </tr>\n",
              "    <tr>\n",
              "      <th>3</th>\n",
              "      <td>966005983</td>\n",
              "      <td>Brief</td>\n",
              "      <td>Average</td>\n",
              "      <td>4.6</td>\n",
              "      <td>L</td>\n",
              "      <td>Spring</td>\n",
              "      <td>o-neck</td>\n",
              "      <td>full</td>\n",
              "      <td>silk</td>\n",
              "      <td>chiffon</td>\n",
              "      <td>embroidary</td>\n",
              "      <td>print</td>\n",
              "      <td>1</td>\n",
              "    </tr>\n",
              "    <tr>\n",
              "      <th>4</th>\n",
              "      <td>876339541</td>\n",
              "      <td>cute</td>\n",
              "      <td>Low</td>\n",
              "      <td>4.5</td>\n",
              "      <td>M</td>\n",
              "      <td>Summer</td>\n",
              "      <td>o-neck</td>\n",
              "      <td>butterfly</td>\n",
              "      <td>chiffonfabric</td>\n",
              "      <td>chiffon</td>\n",
              "      <td>bow</td>\n",
              "      <td>dot</td>\n",
              "      <td>0</td>\n",
              "    </tr>\n",
              "  </tbody>\n",
              "</table>\n",
              "</div>"
            ],
            "text/plain": [
              "     Dress_ID    Style    Price  ...  Decoration Pattern Type Recommendation\n",
              "0  1006032852     Sexy      Low  ...     ruffles       animal              1\n",
              "1  1212192089   Casual      Low  ...     ruffles       animal              0\n",
              "2  1190380701  vintage     High  ...         NaN        print              0\n",
              "3   966005983    Brief  Average  ...  embroidary        print              1\n",
              "4   876339541     cute      Low  ...         bow          dot              0\n",
              "\n",
              "[5 rows x 13 columns]"
            ]
          },
          "metadata": {
            "tags": []
          },
          "execution_count": 343
        }
      ]
    },
    {
      "cell_type": "code",
      "metadata": {
        "colab": {
          "base_uri": "https://localhost:8080/"
        },
        "id": "oHVKSw_o_ftW",
        "outputId": "9a39b320-850b-42c7-abee-f34fd45ce8a1"
      },
      "source": [
        "att['Style'].unique()"
      ],
      "execution_count": null,
      "outputs": [
        {
          "output_type": "execute_result",
          "data": {
            "text/plain": [
              "array(['Sexy', 'Casual', 'vintage', 'Brief', 'cute', 'bohemian', 'Flare',\n",
              "       'party', 'sexy', 'Novelty', 'work', 'OL', 'fashion'], dtype=object)"
            ]
          },
          "metadata": {
            "tags": []
          },
          "execution_count": 344
        }
      ]
    },
    {
      "cell_type": "code",
      "metadata": {
        "id": "LD42DZVs_xrM"
      },
      "source": [
        "att['Style']=att['Style'].replace({'Sexy':'sexy'})"
      ],
      "execution_count": null,
      "outputs": []
    },
    {
      "cell_type": "code",
      "metadata": {
        "colab": {
          "base_uri": "https://localhost:8080/"
        },
        "id": "SfunCtDhHK8O",
        "outputId": "67a97432-83a5-482e-a635-e7d14af6b502"
      },
      "source": [
        "att['Style'].unique()"
      ],
      "execution_count": null,
      "outputs": [
        {
          "output_type": "execute_result",
          "data": {
            "text/plain": [
              "array(['sexy', 'Casual', 'vintage', 'Brief', 'cute', 'bohemian', 'Flare',\n",
              "       'party', 'Novelty', 'work', 'OL', 'fashion'], dtype=object)"
            ]
          },
          "metadata": {
            "tags": []
          },
          "execution_count": 346
        }
      ]
    },
    {
      "cell_type": "code",
      "metadata": {
        "colab": {
          "base_uri": "https://localhost:8080/"
        },
        "id": "y0kYCXf2HNgz",
        "outputId": "223633c9-1b8b-4121-b1ab-0859740fe9ce"
      },
      "source": [
        "att['Price'].unique()"
      ],
      "execution_count": null,
      "outputs": [
        {
          "output_type": "execute_result",
          "data": {
            "text/plain": [
              "array(['Low', 'High', 'Average', 'Medium', 'very-high', nan], dtype=object)"
            ]
          },
          "metadata": {
            "tags": []
          },
          "execution_count": 347
        }
      ]
    },
    {
      "cell_type": "code",
      "metadata": {
        "colab": {
          "base_uri": "https://localhost:8080/"
        },
        "id": "RXuSDipkHOyF",
        "outputId": "81613390-8b0e-41a5-97aa-62714053dcb4"
      },
      "source": [
        "att['Size'].unique()"
      ],
      "execution_count": null,
      "outputs": [
        {
          "output_type": "execute_result",
          "data": {
            "text/plain": [
              "array(['M', 'L', 'XL', 'free', 'S', 'small', 's'], dtype=object)"
            ]
          },
          "metadata": {
            "tags": []
          },
          "execution_count": 348
        }
      ]
    },
    {
      "cell_type": "code",
      "metadata": {
        "id": "Wl5yjE6nHrs7"
      },
      "source": [
        "att['Size']=att['Size'].replace({'s':'S','small':'S'})"
      ],
      "execution_count": null,
      "outputs": []
    },
    {
      "cell_type": "code",
      "metadata": {
        "colab": {
          "base_uri": "https://localhost:8080/"
        },
        "id": "prl3_Vf8H0MT",
        "outputId": "3a5f5d80-2e13-45f0-835c-c7986cd00184"
      },
      "source": [
        "att['Size'].unique()"
      ],
      "execution_count": null,
      "outputs": [
        {
          "output_type": "execute_result",
          "data": {
            "text/plain": [
              "array(['M', 'L', 'XL', 'free', 'S'], dtype=object)"
            ]
          },
          "metadata": {
            "tags": []
          },
          "execution_count": 350
        }
      ]
    },
    {
      "cell_type": "code",
      "metadata": {
        "colab": {
          "base_uri": "https://localhost:8080/"
        },
        "id": "Q9UgGmNxH1mz",
        "outputId": "1b852a5f-3edc-4989-d8e8-56c5d0cde99e"
      },
      "source": [
        "att['Season'].unique()"
      ],
      "execution_count": null,
      "outputs": [
        {
          "output_type": "execute_result",
          "data": {
            "text/plain": [
              "array(['Summer', 'Automn', 'Spring', 'Winter', 'spring', 'winter', nan,\n",
              "       'Autumn'], dtype=object)"
            ]
          },
          "metadata": {
            "tags": []
          },
          "execution_count": 351
        }
      ]
    },
    {
      "cell_type": "code",
      "metadata": {
        "id": "5EB-uzNZH66y"
      },
      "source": [
        "att['Season']=att['Season'].replace({'Automn':'Autumn','spring':'Spring','winter':'Winter'})"
      ],
      "execution_count": null,
      "outputs": []
    },
    {
      "cell_type": "code",
      "metadata": {
        "colab": {
          "base_uri": "https://localhost:8080/"
        },
        "id": "zD2wNCJBIItL",
        "outputId": "5800a470-1080-4457-e1c1-aaaa56c99253"
      },
      "source": [
        "att['Season'].unique()"
      ],
      "execution_count": null,
      "outputs": [
        {
          "output_type": "execute_result",
          "data": {
            "text/plain": [
              "array(['Summer', 'Autumn', 'Spring', 'Winter', nan], dtype=object)"
            ]
          },
          "metadata": {
            "tags": []
          },
          "execution_count": 353
        }
      ]
    },
    {
      "cell_type": "code",
      "metadata": {
        "colab": {
          "base_uri": "https://localhost:8080/"
        },
        "id": "f3EesSxuILOt",
        "outputId": "2fa36e73-50f2-4042-b0b8-2582239b93d3"
      },
      "source": [
        "att['NeckLine'].unique()"
      ],
      "execution_count": null,
      "outputs": [
        {
          "output_type": "execute_result",
          "data": {
            "text/plain": [
              "array(['o-neck', 'v-neck', 'boat-neck', 'peterpan-collor', 'ruffled',\n",
              "       'turndowncollor', 'slash-neck', 'mandarin-collor', 'open',\n",
              "       'sqare-collor', 'Sweetheart', 'sweetheart', nan, 'Scoop', 'halter',\n",
              "       'backless', 'bowneck'], dtype=object)"
            ]
          },
          "metadata": {
            "tags": []
          },
          "execution_count": 354
        }
      ]
    },
    {
      "cell_type": "code",
      "metadata": {
        "id": "sc-_xfM2IMZD"
      },
      "source": [
        "att['NeckLine']=att['NeckLine'].replace({'Sweetheart':'sweetheart'})"
      ],
      "execution_count": null,
      "outputs": []
    },
    {
      "cell_type": "code",
      "metadata": {
        "colab": {
          "base_uri": "https://localhost:8080/"
        },
        "id": "FW6tXrqrIa2i",
        "outputId": "8a59ea80-218d-4814-b6cc-569ca48ca27d"
      },
      "source": [
        "att['NeckLine'].unique()"
      ],
      "execution_count": null,
      "outputs": [
        {
          "output_type": "execute_result",
          "data": {
            "text/plain": [
              "array(['o-neck', 'v-neck', 'boat-neck', 'peterpan-collor', 'ruffled',\n",
              "       'turndowncollor', 'slash-neck', 'mandarin-collor', 'open',\n",
              "       'sqare-collor', 'sweetheart', nan, 'Scoop', 'halter', 'backless',\n",
              "       'bowneck'], dtype=object)"
            ]
          },
          "metadata": {
            "tags": []
          },
          "execution_count": 356
        }
      ]
    },
    {
      "cell_type": "code",
      "metadata": {
        "colab": {
          "base_uri": "https://localhost:8080/"
        },
        "id": "NHY9CqiLIezM",
        "outputId": "b2537c62-461b-4b9d-dd0b-e70929646637"
      },
      "source": [
        "att['SleeveLength'].unique()"
      ],
      "execution_count": null,
      "outputs": [
        {
          "output_type": "execute_result",
          "data": {
            "text/plain": [
              "array(['sleevless', 'Petal', 'full', 'butterfly', 'short', 'threequarter',\n",
              "       'halfsleeve', 'cap-sleeves', 'turndowncollor', 'threequater',\n",
              "       'capsleeves', 'sleeveless', 'sleeevless', 'half', 'urndowncollor',\n",
              "       'thressqatar', nan, 'sleveless'], dtype=object)"
            ]
          },
          "metadata": {
            "tags": []
          },
          "execution_count": 357
        }
      ]
    },
    {
      "cell_type": "code",
      "metadata": {
        "id": "oEtVpUENIgO6"
      },
      "source": [
        "att['SleeveLength']=att['SleeveLength'].replace({'sleevless':'sleeveless','sleveless':'sleeveless','short':'shortsleeve',\n",
        "                                                 'half':'halfsleeve','full':'fullsleeve','urndowncollor':'turndowncollor',\n",
        "                                                 'thressqatar':'threequater'})"
      ],
      "execution_count": null,
      "outputs": []
    },
    {
      "cell_type": "code",
      "metadata": {
        "colab": {
          "base_uri": "https://localhost:8080/"
        },
        "id": "KRqtI-kTJGTl",
        "outputId": "35daa2b1-45d3-4b67-85ce-1a962681b255"
      },
      "source": [
        "att['SleeveLength'].unique()"
      ],
      "execution_count": null,
      "outputs": [
        {
          "output_type": "execute_result",
          "data": {
            "text/plain": [
              "array(['sleeveless', 'Petal', 'fullsleeve', 'butterfly', 'shortsleeve',\n",
              "       'threequarter', 'halfsleeve', 'cap-sleeves', 'turndowncollor',\n",
              "       'threequater', 'capsleeves', 'sleeevless', nan], dtype=object)"
            ]
          },
          "metadata": {
            "tags": []
          },
          "execution_count": 359
        }
      ]
    },
    {
      "cell_type": "code",
      "metadata": {
        "colab": {
          "base_uri": "https://localhost:8080/"
        },
        "id": "iiMtpZP2JKWs",
        "outputId": "d3eedd85-ba43-4ef7-de67-b1e7d4ca74d3"
      },
      "source": [
        "att['Material'].unique()"
      ],
      "execution_count": null,
      "outputs": [
        {
          "output_type": "execute_result",
          "data": {
            "text/plain": [
              "array([nan, 'microfiber', 'polyster', 'silk', 'chiffonfabric', 'cotton',\n",
              "       'nylon', 'other', 'milksilk', 'linen', 'rayon', 'lycra', 'mix',\n",
              "       'acrylic', 'spandex', 'lace', 'modal', 'cashmere', 'viscos',\n",
              "       'sill', 'wool', 'model', 'shiffon'], dtype=object)"
            ]
          },
          "metadata": {
            "tags": []
          },
          "execution_count": 360
        }
      ]
    },
    {
      "cell_type": "code",
      "metadata": {
        "id": "qlx8b_KwJLnJ"
      },
      "source": [
        "att['Material']=att['Material'].replace({'sill':'silk','shiffon':'chiffonfabric'})"
      ],
      "execution_count": null,
      "outputs": []
    },
    {
      "cell_type": "code",
      "metadata": {
        "id": "2o9EOjH8Jegw"
      },
      "source": [
        "att['Material']=att['Material'].replace({'modal':'model'})"
      ],
      "execution_count": null,
      "outputs": []
    },
    {
      "cell_type": "code",
      "metadata": {
        "colab": {
          "base_uri": "https://localhost:8080/"
        },
        "id": "Jr0Txs3XJdjA",
        "outputId": "fb273297-c641-48ee-bd80-45cd21829bc3"
      },
      "source": [
        "att['Material'].unique()"
      ],
      "execution_count": null,
      "outputs": [
        {
          "output_type": "execute_result",
          "data": {
            "text/plain": [
              "array([nan, 'microfiber', 'polyster', 'silk', 'chiffonfabric', 'cotton',\n",
              "       'nylon', 'other', 'milksilk', 'linen', 'rayon', 'lycra', 'mix',\n",
              "       'acrylic', 'spandex', 'lace', 'model', 'cashmere', 'viscos',\n",
              "       'wool'], dtype=object)"
            ]
          },
          "metadata": {
            "tags": []
          },
          "execution_count": 363
        }
      ]
    },
    {
      "cell_type": "code",
      "metadata": {
        "colab": {
          "base_uri": "https://localhost:8080/"
        },
        "id": "cJW2t4S4JqE4",
        "outputId": "340f79df-250e-4dbc-ee6a-c7a76ad5b5ec"
      },
      "source": [
        "att['FabricType'].unique()"
      ],
      "execution_count": null,
      "outputs": [
        {
          "output_type": "execute_result",
          "data": {
            "text/plain": [
              "array(['chiffon', nan, 'broadcloth', 'jersey', 'other', 'batik', 'satin',\n",
              "       'flannael', 'worsted', 'woolen', 'poplin', 'dobby', 'knitting',\n",
              "       'flannel', 'tulle', 'sattin', 'organza', 'lace', 'Corduroy',\n",
              "       'wollen', 'knitted', 'shiffon', 'terry'], dtype=object)"
            ]
          },
          "metadata": {
            "tags": []
          },
          "execution_count": 364
        }
      ]
    },
    {
      "cell_type": "code",
      "metadata": {
        "id": "I2K-3ZPDJ0uh"
      },
      "source": [
        "att['FabricType']=att['FabricType'].replace({'flannael':'flannel','woolen':'wollen','knitting':'knitted','shiffon':'chiffon'})"
      ],
      "execution_count": null,
      "outputs": []
    },
    {
      "cell_type": "code",
      "metadata": {
        "colab": {
          "base_uri": "https://localhost:8080/"
        },
        "id": "SCuvWXhoKRqf",
        "outputId": "ba8cff20-bd08-41ec-dea4-8f17c70304dc"
      },
      "source": [
        "att['FabricType'].unique()"
      ],
      "execution_count": null,
      "outputs": [
        {
          "output_type": "execute_result",
          "data": {
            "text/plain": [
              "array(['chiffon', nan, 'broadcloth', 'jersey', 'other', 'batik', 'satin',\n",
              "       'flannel', 'worsted', 'wollen', 'poplin', 'dobby', 'knitted',\n",
              "       'tulle', 'sattin', 'organza', 'lace', 'Corduroy', 'terry'],\n",
              "      dtype=object)"
            ]
          },
          "metadata": {
            "tags": []
          },
          "execution_count": 366
        }
      ]
    },
    {
      "cell_type": "code",
      "metadata": {
        "colab": {
          "base_uri": "https://localhost:8080/"
        },
        "id": "gMS99mZ5KUtd",
        "outputId": "5800fda9-3196-4ce8-9f80-2a0e7b018a41"
      },
      "source": [
        "att['Decoration'].unique()"
      ],
      "execution_count": null,
      "outputs": [
        {
          "output_type": "execute_result",
          "data": {
            "text/plain": [
              "array(['ruffles', nan, 'embroidary', 'bow', 'beading', 'lace', 'sashes',\n",
              "       'hollowout', 'pockets', 'sequined', 'applique', 'button', 'Tiered',\n",
              "       'rivet', 'feathers', 'flowers', 'pearls', 'pleat', 'crystal',\n",
              "       'ruched', 'draped', 'tassel', 'plain', 'cascading', 'none'],\n",
              "      dtype=object)"
            ]
          },
          "metadata": {
            "tags": []
          },
          "execution_count": 367
        }
      ]
    },
    {
      "cell_type": "code",
      "metadata": {
        "colab": {
          "base_uri": "https://localhost:8080/"
        },
        "id": "zK-KN8VHKV5e",
        "outputId": "5445ba67-90f8-4336-c73f-e5a86504ebc2"
      },
      "source": [
        "att['Pattern Type'].unique()"
      ],
      "execution_count": null,
      "outputs": [
        {
          "output_type": "execute_result",
          "data": {
            "text/plain": [
              "array(['animal', 'print', 'dot', 'solid', nan, 'patchwork', 'striped',\n",
              "       'geometric', 'plaid', 'leopard', 'floral', 'character', 'splice',\n",
              "       'leapord', 'none'], dtype=object)"
            ]
          },
          "metadata": {
            "tags": []
          },
          "execution_count": 368
        }
      ]
    },
    {
      "cell_type": "code",
      "metadata": {
        "colab": {
          "base_uri": "https://localhost:8080/",
          "height": 236
        },
        "id": "id7KP1YYP3To",
        "outputId": "c522d5bf-26bb-4d58-ce6c-60ad82233de9"
      },
      "source": [
        "df_final=pd.merge(df,att)\n",
        "df_final.head()"
      ],
      "execution_count": null,
      "outputs": [
        {
          "output_type": "execute_result",
          "data": {
            "text/html": [
              "<div>\n",
              "<style scoped>\n",
              "    .dataframe tbody tr th:only-of-type {\n",
              "        vertical-align: middle;\n",
              "    }\n",
              "\n",
              "    .dataframe tbody tr th {\n",
              "        vertical-align: top;\n",
              "    }\n",
              "\n",
              "    .dataframe thead th {\n",
              "        text-align: right;\n",
              "    }\n",
              "</style>\n",
              "<table border=\"1\" class=\"dataframe\">\n",
              "  <thead>\n",
              "    <tr style=\"text-align: right;\">\n",
              "      <th></th>\n",
              "      <th>Dress_ID</th>\n",
              "      <th>winter</th>\n",
              "      <th>summer</th>\n",
              "      <th>rainy</th>\n",
              "      <th>autumn</th>\n",
              "      <th>total</th>\n",
              "      <th>Style</th>\n",
              "      <th>Price</th>\n",
              "      <th>Rating</th>\n",
              "      <th>Size</th>\n",
              "      <th>Season</th>\n",
              "      <th>NeckLine</th>\n",
              "      <th>SleeveLength</th>\n",
              "      <th>Material</th>\n",
              "      <th>FabricType</th>\n",
              "      <th>Decoration</th>\n",
              "      <th>Pattern Type</th>\n",
              "      <th>Recommendation</th>\n",
              "    </tr>\n",
              "  </thead>\n",
              "  <tbody>\n",
              "    <tr>\n",
              "      <th>0</th>\n",
              "      <td>1.006033e+09</td>\n",
              "      <td>13453.0</td>\n",
              "      <td>6492.0</td>\n",
              "      <td>49119.0</td>\n",
              "      <td>6915.0</td>\n",
              "      <td>75979.0</td>\n",
              "      <td>sexy</td>\n",
              "      <td>Low</td>\n",
              "      <td>4.6</td>\n",
              "      <td>M</td>\n",
              "      <td>Summer</td>\n",
              "      <td>o-neck</td>\n",
              "      <td>sleeveless</td>\n",
              "      <td>NaN</td>\n",
              "      <td>chiffon</td>\n",
              "      <td>ruffles</td>\n",
              "      <td>animal</td>\n",
              "      <td>1</td>\n",
              "    </tr>\n",
              "    <tr>\n",
              "      <th>1</th>\n",
              "      <td>1.212192e+09</td>\n",
              "      <td>9880.0</td>\n",
              "      <td>4404.0</td>\n",
              "      <td>32683.0</td>\n",
              "      <td>5289.0</td>\n",
              "      <td>52256.0</td>\n",
              "      <td>Casual</td>\n",
              "      <td>Low</td>\n",
              "      <td>0.0</td>\n",
              "      <td>L</td>\n",
              "      <td>Summer</td>\n",
              "      <td>o-neck</td>\n",
              "      <td>Petal</td>\n",
              "      <td>microfiber</td>\n",
              "      <td>NaN</td>\n",
              "      <td>ruffles</td>\n",
              "      <td>animal</td>\n",
              "      <td>0</td>\n",
              "    </tr>\n",
              "    <tr>\n",
              "      <th>2</th>\n",
              "      <td>1.190381e+09</td>\n",
              "      <td>39.0</td>\n",
              "      <td>18.0</td>\n",
              "      <td>146.0</td>\n",
              "      <td>20.0</td>\n",
              "      <td>223.0</td>\n",
              "      <td>vintage</td>\n",
              "      <td>High</td>\n",
              "      <td>0.0</td>\n",
              "      <td>L</td>\n",
              "      <td>Autumn</td>\n",
              "      <td>o-neck</td>\n",
              "      <td>fullsleeve</td>\n",
              "      <td>polyster</td>\n",
              "      <td>NaN</td>\n",
              "      <td>NaN</td>\n",
              "      <td>print</td>\n",
              "      <td>0</td>\n",
              "    </tr>\n",
              "    <tr>\n",
              "      <th>3</th>\n",
              "      <td>9.660060e+08</td>\n",
              "      <td>6941.0</td>\n",
              "      <td>3396.0</td>\n",
              "      <td>25758.0</td>\n",
              "      <td>3596.0</td>\n",
              "      <td>39691.0</td>\n",
              "      <td>Brief</td>\n",
              "      <td>Average</td>\n",
              "      <td>4.6</td>\n",
              "      <td>L</td>\n",
              "      <td>Spring</td>\n",
              "      <td>o-neck</td>\n",
              "      <td>fullsleeve</td>\n",
              "      <td>silk</td>\n",
              "      <td>chiffon</td>\n",
              "      <td>embroidary</td>\n",
              "      <td>print</td>\n",
              "      <td>1</td>\n",
              "    </tr>\n",
              "    <tr>\n",
              "      <th>4</th>\n",
              "      <td>8.763395e+08</td>\n",
              "      <td>8065.0</td>\n",
              "      <td>3855.0</td>\n",
              "      <td>27894.0</td>\n",
              "      <td>4263.0</td>\n",
              "      <td>44077.0</td>\n",
              "      <td>cute</td>\n",
              "      <td>Low</td>\n",
              "      <td>4.5</td>\n",
              "      <td>M</td>\n",
              "      <td>Summer</td>\n",
              "      <td>o-neck</td>\n",
              "      <td>butterfly</td>\n",
              "      <td>chiffonfabric</td>\n",
              "      <td>chiffon</td>\n",
              "      <td>bow</td>\n",
              "      <td>dot</td>\n",
              "      <td>0</td>\n",
              "    </tr>\n",
              "  </tbody>\n",
              "</table>\n",
              "</div>"
            ],
            "text/plain": [
              "       Dress_ID   winter  summer  ...  Decoration  Pattern Type  Recommendation\n",
              "0  1.006033e+09  13453.0  6492.0  ...     ruffles        animal               1\n",
              "1  1.212192e+09   9880.0  4404.0  ...     ruffles        animal               0\n",
              "2  1.190381e+09     39.0    18.0  ...         NaN         print               0\n",
              "3  9.660060e+08   6941.0  3396.0  ...  embroidary         print               1\n",
              "4  8.763395e+08   8065.0  3855.0  ...         bow           dot               0\n",
              "\n",
              "[5 rows x 18 columns]"
            ]
          },
          "metadata": {
            "tags": []
          },
          "execution_count": 369
        }
      ]
    },
    {
      "cell_type": "code",
      "metadata": {
        "id": "4TEwlv3ndJcc"
      },
      "source": [
        "df_final['Dress_ID']=df_final['Dress_ID'].astype(int)"
      ],
      "execution_count": null,
      "outputs": []
    },
    {
      "cell_type": "code",
      "metadata": {
        "colab": {
          "base_uri": "https://localhost:8080/"
        },
        "id": "21nBW2VeYvVX",
        "outputId": "d6c12cce-bcdc-4957-8a21-4dbbff596678"
      },
      "source": [
        "df_final.shape"
      ],
      "execution_count": null,
      "outputs": [
        {
          "output_type": "execute_result",
          "data": {
            "text/plain": [
              "(479, 18)"
            ]
          },
          "metadata": {
            "tags": []
          },
          "execution_count": 371
        }
      ]
    },
    {
      "cell_type": "code",
      "metadata": {
        "colab": {
          "base_uri": "https://localhost:8080/",
          "height": 334
        },
        "id": "bRXrp686VXaF",
        "outputId": "4ce94083-1c11-4a36-cd1a-af571deb7389"
      },
      "source": [
        "df_final.groupby('Price')['total'].mean().plot.bar()"
      ],
      "execution_count": null,
      "outputs": [
        {
          "output_type": "execute_result",
          "data": {
            "text/plain": [
              "<matplotlib.axes._subplots.AxesSubplot at 0x7fd4465c8978>"
            ]
          },
          "metadata": {
            "tags": []
          },
          "execution_count": 372
        },
        {
          "output_type": "display_data",
          "data": {
            "image/png": "[encoded data removed]",
            "text/plain": [
              "<Figure size 432x288 with 1 Axes>"
            ]
          },
          "metadata": {
            "tags": [],
            "needs_background": "light"
          }
        }
      ]
    },
    {
      "cell_type": "code",
      "metadata": {
        "colab": {
          "base_uri": "https://localhost:8080/",
          "height": 334
        },
        "id": "55zxoj3nV-J9",
        "outputId": "ee46caaf-e584-4f69-be1d-48f0de2664c8"
      },
      "source": [
        "df_final.groupby('Price')['total'].median().plot.bar()"
      ],
      "execution_count": null,
      "outputs": [
        {
          "output_type": "execute_result",
          "data": {
            "text/plain": [
              "<matplotlib.axes._subplots.AxesSubplot at 0x7fd44653f588>"
            ]
          },
          "metadata": {
            "tags": []
          },
          "execution_count": 373
        },
        {
          "output_type": "display_data",
          "data": {
            "image/png": "[encoded data removed]",
            "text/plain": [
              "<Figure size 432x288 with 1 Axes>"
            ]
          },
          "metadata": {
            "tags": [],
            "needs_background": "light"
          }
        }
      ]
    },
    {
      "cell_type": "code",
      "metadata": {
        "colab": {
          "base_uri": "https://localhost:8080/",
          "height": 302
        },
        "id": "XjbSuNt6oNPk",
        "outputId": "b10d2a1b-5066-487a-c544-2ac5ce35bf82"
      },
      "source": [
        "df_final.groupby('Rating')['total'].mean().plot.bar()"
      ],
      "execution_count": null,
      "outputs": [
        {
          "output_type": "execute_result",
          "data": {
            "text/plain": [
              "<matplotlib.axes._subplots.AxesSubplot at 0x7fd446531278>"
            ]
          },
          "metadata": {
            "tags": []
          },
          "execution_count": 374
        },
        {
          "output_type": "display_data",
          "data": {
            "image/png": "[encoded data removed]",
            "text/plain": [
              "<Figure size 432x288 with 1 Axes>"
            ]
          },
          "metadata": {
            "tags": [],
            "needs_background": "light"
          }
        }
      ]
    },
    {
      "cell_type": "code",
      "metadata": {
        "colab": {
          "base_uri": "https://localhost:8080/",
          "height": 296
        },
        "id": "ZTWSIMv0pDY9",
        "outputId": "830ccc2c-a9e1-40c3-ec62-ef3f065ced16"
      },
      "source": [
        "df_final.groupby('Recommendation')['total'].mean().plot.bar()"
      ],
      "execution_count": null,
      "outputs": [
        {
          "output_type": "execute_result",
          "data": {
            "text/plain": [
              "<matplotlib.axes._subplots.AxesSubplot at 0x7fd4464c1da0>"
            ]
          },
          "metadata": {
            "tags": []
          },
          "execution_count": 376
        },
        {
          "output_type": "display_data",
          "data": {
            "image/png": "[encoded data removed]",
            "text/plain": [
              "<Figure size 432x288 with 1 Axes>"
            ]
          },
          "metadata": {
            "tags": [],
            "needs_background": "light"
          }
        }
      ]
    },
    {
      "cell_type": "code",
      "metadata": {
        "colab": {
          "base_uri": "https://localhost:8080/",
          "height": 336
        },
        "id": "91SOEmBbpOm1",
        "outputId": "a7707190-b70a-4fd6-9628-8d8ca2b85dbc"
      },
      "source": [
        "df_final.groupby('Style')['total'].mean().plot.bar()"
      ],
      "execution_count": null,
      "outputs": [
        {
          "output_type": "execute_result",
          "data": {
            "text/plain": [
              "<matplotlib.axes._subplots.AxesSubplot at 0x7fd4463a04a8>"
            ]
          },
          "metadata": {
            "tags": []
          },
          "execution_count": 377
        },
        {
          "output_type": "display_data",
          "data": {
            "image/png": "[encoded data removed]",
            "text/plain": [
              "<Figure size 432x288 with 1 Axes>"
            ]
          },
          "metadata": {
            "tags": [],
            "needs_background": "light"
          }
        }
      ]
    },
    {
      "cell_type": "code",
      "metadata": {
        "colab": {
          "base_uri": "https://localhost:8080/",
          "height": 324
        },
        "id": "inENUw8Nwvds",
        "outputId": "0010e847-eb02-47eb-e99e-769eb3bded34"
      },
      "source": [
        "df_final[['summer','winter','rainy','autumn']].sum().plot.bar()"
      ],
      "execution_count": null,
      "outputs": [
        {
          "output_type": "execute_result",
          "data": {
            "text/plain": [
              "<matplotlib.axes._subplots.AxesSubplot at 0x7fd4460b93c8>"
            ]
          },
          "metadata": {
            "tags": []
          },
          "execution_count": 396
        },
        {
          "output_type": "display_data",
          "data": {
            "image/png": "[encoded data removed]",
            "text/plain": [
              "<Figure size 432x288 with 1 Axes>"
            ]
          },
          "metadata": {
            "tags": [],
            "needs_background": "light"
          }
        }
      ]
    },
    {
      "cell_type": "code",
      "metadata": {
        "colab": {
          "base_uri": "https://localhost:8080/",
          "height": 378
        },
        "id": "1lhOfjTdzcrQ",
        "outputId": "a3f6cabc-eba0-4f62-8b7b-db2a9103562d"
      },
      "source": [
        "sns.barplot(df_final['FabricType'],df_final['total']);\n",
        "plt.xticks(rotation=90);"
      ],
      "execution_count": null,
      "outputs": [
        {
          "output_type": "stream",
          "text": [
            "/usr/local/lib/python3.6/dist-packages/seaborn/_decorators.py:43: FutureWarning: Pass the following variables as keyword args: x, y. From version 0.12, the only valid positional argument will be `data`, and passing other arguments without an explicit keyword will result in an error or misinterpretation.\n",
            "  FutureWarning\n"
          ],
          "name": "stderr"
        },
        {
          "output_type": "display_data",
          "data": {
            "image/png": "[encoded data removed]",
            "text/plain": [
              "<Figure size 432x288 with 1 Axes>"
            ]
          },
          "metadata": {
            "tags": [],
            "needs_background": "light"
          }
        }
      ]
    }
  ]
}